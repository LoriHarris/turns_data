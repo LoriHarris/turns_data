{
 "cells": [
  {
   "cell_type": "code",
   "execution_count": 1,
   "metadata": {},
   "outputs": [],
   "source": [
    "import pandas as pd\n",
    "import numpy as np\n",
    "import matplotlib.pyplot as plt\n",
    "import datetime\n",
    "import matplotlib.dates as mdates\n"
   ]
  },
  {
   "cell_type": "code",
   "execution_count": 2,
   "metadata": {},
   "outputs": [],
   "source": [
    "df = pd.read_csv('propertyturns2014.csv')"
   ]
  },
  {
   "cell_type": "code",
   "execution_count": 3,
   "metadata": {},
   "outputs": [
    {
     "data": {
      "text/html": [
       "<div>\n",
       "<style scoped>\n",
       "    .dataframe tbody tr th:only-of-type {\n",
       "        vertical-align: middle;\n",
       "    }\n",
       "\n",
       "    .dataframe tbody tr th {\n",
       "        vertical-align: top;\n",
       "    }\n",
       "\n",
       "    .dataframe thead th {\n",
       "        text-align: right;\n",
       "    }\n",
       "</style>\n",
       "<table border=\"1\" class=\"dataframe\">\n",
       "  <thead>\n",
       "    <tr style=\"text-align: right;\">\n",
       "      <th></th>\n",
       "      <th>PropertyAddress</th>\n",
       "      <th>MoveOut</th>\n",
       "      <th>MoveIn</th>\n",
       "      <th>NOTES</th>\n",
       "    </tr>\n",
       "  </thead>\n",
       "  <tbody>\n",
       "    <tr>\n",
       "      <th>0</th>\n",
       "      <td>3614 Wishart St</td>\n",
       "      <td>12/14/2018</td>\n",
       "      <td>12/15/2018</td>\n",
       "      <td>Ryan</td>\n",
       "    </tr>\n",
       "    <tr>\n",
       "      <th>1</th>\n",
       "      <td>922B Hale St</td>\n",
       "      <td>12/18/2018</td>\n",
       "      <td>12/19/2018</td>\n",
       "      <td>Lease Takeover</td>\n",
       "    </tr>\n",
       "    <tr>\n",
       "      <th>2</th>\n",
       "      <td>2008 Englewood</td>\n",
       "      <td>12/18/2018</td>\n",
       "      <td>12/27/2018</td>\n",
       "      <td>Lease takeover</td>\n",
       "    </tr>\n",
       "    <tr>\n",
       "      <th>3</th>\n",
       "      <td>1402 Lakewood</td>\n",
       "      <td>12/31/2018</td>\n",
       "      <td>1/1/2019</td>\n",
       "      <td>Tenant already there - change batt, inspect</td>\n",
       "    </tr>\n",
       "    <tr>\n",
       "      <th>4</th>\n",
       "      <td>1011-21 Morreene</td>\n",
       "      <td>12/31/2018</td>\n",
       "      <td>1/4/2019</td>\n",
       "      <td>Punch list Ryan then have Krista clean</td>\n",
       "    </tr>\n",
       "  </tbody>\n",
       "</table>\n",
       "</div>"
      ],
      "text/plain": [
       "    PropertyAddress     MoveOut      MoveIn  \\\n",
       "0   3614 Wishart St  12/14/2018  12/15/2018   \n",
       "1      922B Hale St  12/18/2018  12/19/2018   \n",
       "2    2008 Englewood  12/18/2018  12/27/2018   \n",
       "3     1402 Lakewood  12/31/2018    1/1/2019   \n",
       "4  1011-21 Morreene  12/31/2018    1/4/2019   \n",
       "\n",
       "                                         NOTES  \n",
       "0                                         Ryan  \n",
       "1                               Lease Takeover  \n",
       "2                               Lease takeover  \n",
       "3  Tenant already there - change batt, inspect  \n",
       "4       Punch list Ryan then have Krista clean  "
      ]
     },
     "execution_count": 3,
     "metadata": {},
     "output_type": "execute_result"
    }
   ],
   "source": [
    "df['MoveOut'] = df['MoveOut'].astype('str') \n",
    "df['MoveIn'] = df['MoveIn'].astype('str') \n",
    "df.head()"
   ]
  },
  {
   "cell_type": "code",
   "execution_count": null,
   "metadata": {},
   "outputs": [],
   "source": []
  },
  {
   "cell_type": "code",
   "execution_count": 4,
   "metadata": {},
   "outputs": [],
   "source": [
    "df1 = df[['PropertyAddress','MoveOut','MoveIn']]"
   ]
  },
  {
   "cell_type": "code",
   "execution_count": 5,
   "metadata": {},
   "outputs": [
    {
     "name": "stderr",
     "output_type": "stream",
     "text": [
      "c:\\users\\user\\miniconda3\\lib\\site-packages\\ipykernel_launcher.py:1: SettingWithCopyWarning: \n",
      "A value is trying to be set on a copy of a slice from a DataFrame.\n",
      "Try using .loc[row_indexer,col_indexer] = value instead\n",
      "\n",
      "See the caveats in the documentation: http://pandas.pydata.org/pandas-docs/stable/indexing.html#indexing-view-versus-copy\n",
      "  \"\"\"Entry point for launching an IPython kernel.\n"
     ]
    }
   ],
   "source": [
    "df1['MoveOut']=df1['MoveOut'].dropna()\n",
    "\n",
    "# df1['MoveOut']=df1['MoveOut'].fillna('LC or NM')\n",
    "# df1['MoveIn']=df1['MoveIn'].fillna('None')"
   ]
  },
  {
   "cell_type": "code",
   "execution_count": 6,
   "metadata": {
    "scrolled": true
   },
   "outputs": [
    {
     "name": "stderr",
     "output_type": "stream",
     "text": [
      "c:\\users\\user\\miniconda3\\lib\\site-packages\\ipykernel_launcher.py:1: SettingWithCopyWarning: \n",
      "A value is trying to be set on a copy of a slice from a DataFrame.\n",
      "Try using .loc[row_indexer,col_indexer] = value instead\n",
      "\n",
      "See the caveats in the documentation: http://pandas.pydata.org/pandas-docs/stable/indexing.html#indexing-view-versus-copy\n",
      "  \"\"\"Entry point for launching an IPython kernel.\n",
      "c:\\users\\user\\miniconda3\\lib\\site-packages\\ipykernel_launcher.py:2: SettingWithCopyWarning: \n",
      "A value is trying to be set on a copy of a slice from a DataFrame.\n",
      "Try using .loc[row_indexer,col_indexer] = value instead\n",
      "\n",
      "See the caveats in the documentation: http://pandas.pydata.org/pandas-docs/stable/indexing.html#indexing-view-versus-copy\n",
      "  \n"
     ]
    }
   ],
   "source": [
    "df1['MoveOut'] = pd.to_datetime(df1['MoveOut'],dayfirst=True, errors='coerce')\n",
    "df1['MoveIn'] = pd.to_datetime(df1['MoveIn'],dayfirst=True, errors='coerce')\n",
    "\n",
    "df1['date'] = df1['MoveIn'].dt.to_period('M')\n",
    "df1['date'] = df1['date'].astype('str') "
   ]
  },
  {
   "cell_type": "code",
   "execution_count": 12,
   "metadata": {},
   "outputs": [],
   "source": [
    "move_out=df1.groupby(df1['MoveOut']).count()\n",
    "move_out=move_out.reset_index()\n",
    "move_out['Quantity']=move_out['PropertyAddress']\n",
    "move_in=df1.groupby(df1['date']).count()\n",
    "move_in=move_in.reset_index()\n",
    "move_in['Quantity']=move_in['PropertyAddress']"
   ]
  },
  {
   "cell_type": "code",
   "execution_count": 13,
   "metadata": {},
   "outputs": [
    {
     "data": {
      "text/html": [
       "<div>\n",
       "<style scoped>\n",
       "    .dataframe tbody tr th:only-of-type {\n",
       "        vertical-align: middle;\n",
       "    }\n",
       "\n",
       "    .dataframe tbody tr th {\n",
       "        vertical-align: top;\n",
       "    }\n",
       "\n",
       "    .dataframe thead th {\n",
       "        text-align: right;\n",
       "    }\n",
       "</style>\n",
       "<table border=\"1\" class=\"dataframe\">\n",
       "  <thead>\n",
       "    <tr style=\"text-align: right;\">\n",
       "      <th></th>\n",
       "      <th>date</th>\n",
       "      <th>PropertyAddress</th>\n",
       "      <th>MoveOut</th>\n",
       "      <th>MoveIn</th>\n",
       "      <th>Quantity</th>\n",
       "    </tr>\n",
       "  </thead>\n",
       "  <tbody>\n",
       "    <tr>\n",
       "      <th>0</th>\n",
       "      <td>2018-12</td>\n",
       "      <td>3</td>\n",
       "      <td>3</td>\n",
       "      <td>3</td>\n",
       "      <td>3</td>\n",
       "    </tr>\n",
       "    <tr>\n",
       "      <th>1</th>\n",
       "      <td>2019-01</td>\n",
       "      <td>35</td>\n",
       "      <td>27</td>\n",
       "      <td>35</td>\n",
       "      <td>35</td>\n",
       "    </tr>\n",
       "    <tr>\n",
       "      <th>2</th>\n",
       "      <td>2019-02</td>\n",
       "      <td>3</td>\n",
       "      <td>3</td>\n",
       "      <td>3</td>\n",
       "      <td>3</td>\n",
       "    </tr>\n",
       "    <tr>\n",
       "      <th>3</th>\n",
       "      <td>2019-03</td>\n",
       "      <td>3</td>\n",
       "      <td>0</td>\n",
       "      <td>3</td>\n",
       "      <td>3</td>\n",
       "    </tr>\n",
       "    <tr>\n",
       "      <th>4</th>\n",
       "      <td>2019-04</td>\n",
       "      <td>8</td>\n",
       "      <td>6</td>\n",
       "      <td>8</td>\n",
       "      <td>8</td>\n",
       "    </tr>\n",
       "  </tbody>\n",
       "</table>\n",
       "</div>"
      ],
      "text/plain": [
       "      date  PropertyAddress  MoveOut  MoveIn  Quantity\n",
       "0  2018-12                3        3       3         3\n",
       "1  2019-01               35       27      35        35\n",
       "2  2019-02                3        3       3         3\n",
       "3  2019-03                3        0       3         3\n",
       "4  2019-04                8        6       8         8"
      ]
     },
     "execution_count": 13,
     "metadata": {},
     "output_type": "execute_result"
    }
   ],
   "source": [
    "move_in.head()"
   ]
  },
  {
   "cell_type": "code",
   "execution_count": 14,
   "metadata": {},
   "outputs": [
    {
     "name": "stderr",
     "output_type": "stream",
     "text": [
      "c:\\users\\user\\miniconda3\\lib\\site-packages\\pandas\\plotting\\_converter.py:129: FutureWarning: Using an implicitly registered datetime converter for a matplotlib plotting method. The converter was registered by pandas on import. Future versions of pandas will require you to explicitly register matplotlib converters.\n",
      "\n",
      "To register the converters:\n",
      "\t>>> from pandas.plotting import register_matplotlib_converters\n",
      "\t>>> register_matplotlib_converters()\n",
      "  warnings.warn(msg, FutureWarning)\n"
     ]
    },
    {
     "data": {
      "image/png": "[encoded data removed]",
      "text/plain": [
       "<Figure size 432x288 with 2 Axes>"
      ]
     },
     "metadata": {
      "needs_background": "light"
     },
     "output_type": "display_data"
    }
   ],
   "source": [
    "address_out = move_out['Quantity']\n",
    "address_in = move_in['Quantity']\n",
    "\n",
    "Out = move_out['MoveOut']\n",
    "In = move_in['date']\n",
    "fig, ax1 = plt.subplots()\n",
    "# figsize=(5, 5)\n",
    "ax2 = ax1.twinx()\n",
    "ax1.plot(Out, address_out, color='r')\n",
    "\n",
    "handles, labels = ax1.get_legend_handles_labels()\n",
    "legend = plt.legend(handles, labels, loc=\"upper left\")\n",
    "plt.tight_layout()\n",
    "\n",
    "plt.style.use(\"seaborn\")\n",
    "\n",
    "# plt.savefig('chart.png', dpi=300)\n",
    "plt.grid()\n",
    "plt.show()"
   ]
  },
  {
   "cell_type": "code",
   "execution_count": 15,
   "metadata": {},
   "outputs": [
    {
     "data": {
      "image/png": "[encoded data removed]",
      "text/plain": [
       "<Figure size 576x396 with 1 Axes>"
      ]
     },
     "metadata": {},
     "output_type": "display_data"
    }
   ],
   "source": [
    "fig, ax1 = plt.subplots()\n",
    "\n",
    "ax1.plot(In, address_in, color='r')\n",
    "\n",
    "\n",
    "# plt.title(\"Unemployment Rate vs Affordability Tiers\",fontdict = {'fontsize' : 20})\n",
    "\n",
    "# ax1.set_xlabel(\"Year\",fontdict = {'fontsize' : 14})\n",
    "# ax1.set_ylabel(\"Affordibility Percentage\",fontdict = {'fontsize' : 14})\n",
    "# ax2.set_ylabel(\"Unemployment Rate\",fontdict = {'fontsize' : 14})\n",
    "\n",
    "# ax1.yaxis.set_major_formatter(FuncFormatter('{0:.0%}'.format))\n",
    "# ax2.yaxis.set_major_formatter(FuncFormatter('{0:.0%}'.format))\n",
    "\n",
    "# ax1.tick_params(direction='out', length=5, axis=\"x\", labelsize=12)\n",
    "# ax1.tick_params(axis=\"y\", labelsize=12)\n",
    "# ax2.tick_params(axis=\"y\", labelsize=12)\n",
    "\n",
    "handles, labels = ax1.get_legend_handles_labels()\n",
    "legend = plt.legend(handles,labels, loc=\"upper left\")\n",
    "plt.tight_layout()\n",
    "\n",
    "plt.style.use(\"seaborn\")\n",
    "\n",
    "plt.savefig('chart.png', dpi=300)\n",
    "plt.grid()\n",
    "plt.show()"
   ]
  },
  {
   "cell_type": "code",
   "execution_count": null,
   "metadata": {},
   "outputs": [],
   "source": []
  }
 ],
 "metadata": {
  "kernelspec": {
   "display_name": "Python 3",
   "language": "python",
   "name": "python3"
  },
  "language_info": {
   "codemirror_mode": {
    "name": "ipython",
    "version": 3
   },
   "file_extension": ".py",
   "mimetype": "text/x-python",
   "name": "python",
   "nbconvert_exporter": "python",
   "pygments_lexer": "ipython3",
   "version": "3.7.1"
  }
 },
 "nbformat": 4,
 "nbformat_minor": 2
}
